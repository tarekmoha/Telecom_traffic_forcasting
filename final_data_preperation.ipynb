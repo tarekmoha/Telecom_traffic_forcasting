{
 "cells": [
  {
   "cell_type": "code",
   "execution_count": 1,
   "metadata": {},
   "outputs": [
    {
     "name": "stderr",
     "output_type": "stream",
     "text": [
      "Importing plotly failed. Interactive plots will not work.\n"
     ]
    }
   ],
   "source": [
    "import pandas as pd\n",
    "import numpy as np\n",
    "import prophet as pt\n",
    "import datetime as dt\n",
    "import os\n",
    "import matplotlib.pyplot as plt\n",
    "from prophet.plot import add_changepoints_to_plot"
   ]
  },
  {
   "cell_type": "code",
   "execution_count": null,
   "metadata": {},
   "outputs": [],
   "source": [
    "Data_path = ''\n",
    "files  = os.listdir()\n",
    "columns = [\"grid_num\", \"time\", \"cell_id\", \"sms_in\", \"sms_out\", \"call_in\", \"call_out\", \"internet\"]"
   ]
  },
  {
   "cell_type": "code",
   "execution_count": null,
   "metadata": {},
   "outputs": [],
   "source": [
    "def convert(t):\n",
    "    \"\"\"\n",
    "    Function to convert the time steops to a standard form add \n",
    "    subtracting the hour to be in the GMT time.\n",
    "    \"\"\"\n",
    "    return dt.datetime.fromtimestamp(t / 1e3) - dt.timedelta(hours = 1)"
   ]
  },
  {
   "cell_type": "code",
   "execution_count": null,
   "metadata": {},
   "outputs": [],
   "source": [
    "#Iterate over all files\n",
    "full_data = pd.DataFrame()\n",
    "for f in files[7:]:\n",
    "    #get day number\n",
    "    day = f[-9:-4]\n",
    "    #Read the file\n",
    "    df = pd.read_csv(f, sep = \"\\t\", header = None, names=columns)\n",
    "    #convert time column to a readable time\n",
    "    df[\"time\"] = df[\"time\"].apply(convert)\n",
    "    df[\"time\"] = pd.to_datetime(df[\"time\"])\n",
    "    #grouping the data (each time step we have a value for each grid)\n",
    "    df = df.groupby(['time','grid_num']).sum()\n",
    "    #define a new aggregated column\n",
    "    df[\"rate\"] = df.loc[:, [\"sms_in\", \"sms_out\", \"call_in\", \"call_out\", \"internet\"]].sum(axis = 1)\n",
    "    #drop the unwanted columns\n",
    "    df.drop(columns = [\"cell_id\",\"sms_in\", \"sms_out\", \"call_in\", \"call_out\", \"internet\"], inplace = True)\n",
    "    #Concate df with full data\n",
    "    full_data = pd.concat([full_data, df])\n",
    "    #save the data to a csv\n",
    "    #Check point\n",
    "    print('===========> Day {} is done!'.format(day))\n",
    "    print('===========> Full data rows: {} rows'.format(len(full_data)))\n",
    "    \n",
    "full_data.to_csv('full_grid.csv')\n",
    "print('===========> Full data size: {} Mb'.format(os.path.getsize('full_grid.csv')/10**6))"
   ]
  },
  {
   "cell_type": "code",
   "execution_count": null,
   "metadata": {},
   "outputs": [],
   "source": [
    "# =========== 2D Array ====================================\n",
    "# Define the new data shape\n",
    "time_steps = df.reset_index()['time'].unique()\n",
    "grids = df.reset_index()['grid_num'].unique()\n",
    "\n",
    "## Convert the pandas dataframe to a numpy array with shape()\n",
    "# Each sample in the 4-D array is an image represent one snapshot taken at time-step\n",
    "# to the city, each value represent the value of one grid at this time-step.\n",
    "data = np.zeros(dtype=np.float64, shape=(len(time_steps), len(grids)//98, len(grids)//117, 1))\n",
    "\n",
    "for i, j in enumerate(time_steps):\n",
    "    data[i, :, :, :] = df.loc[j].to_numpy().reshape(98, 117, 1)\n",
    "\n",
    "# save to npy file\n",
    "np.save('full_grid.npy', data)"
   ]
  }
 ],
 "metadata": {
  "kernelspec": {
   "display_name": "Python 3",
   "language": "python",
   "name": "python3"
  },
  "language_info": {
   "codemirror_mode": {
    "name": "ipython",
    "version": 3
   },
   "file_extension": ".py",
   "mimetype": "text/x-python",
   "name": "python",
   "nbconvert_exporter": "python",
   "pygments_lexer": "ipython3",
   "version": "3.8.12"
  }
 },
 "nbformat": 4,
 "nbformat_minor": 4
}
